{
 "cells": [
  {
   "cell_type": "code",
   "execution_count": 121,
   "metadata": {},
   "outputs": [],
   "source": [
    "library(class)\n",
    "library(dplyr)"
   ]
  },
  {
   "cell_type": "code",
   "execution_count": 168,
   "metadata": {},
   "outputs": [],
   "source": [
    "#signs <- read.csv(\"https://assets.datacamp.com/production/course_2906/datasets/knn_traffic_signs.csv\", stringsAsFactors=FALSE)\n",
    "signs <- read.csv(\"F:\\\\R Code files\\\\R Data Sets\\\\knn_traffic_signs.csv\", stringsAsFactors=FALSE)"
   ]
  },
  {
   "cell_type": "code",
   "execution_count": 169,
   "metadata": {},
   "outputs": [
    {
     "data": {
      "text/html": [
       "<ol class=list-inline>\n",
       "\t<li>206</li>\n",
       "\t<li>51</li>\n",
       "</ol>\n"
      ],
      "text/latex": [
       "\\begin{enumerate*}\n",
       "\\item 206\n",
       "\\item 51\n",
       "\\end{enumerate*}\n"
      ],
      "text/markdown": [
       "1. 206\n",
       "2. 51\n",
       "\n",
       "\n"
      ],
      "text/plain": [
       "[1] 206  51"
      ]
     },
     "metadata": {},
     "output_type": "display_data"
    }
   ],
   "source": [
    "dim(signs)"
   ]
  },
  {
   "cell_type": "code",
   "execution_count": 170,
   "metadata": {},
   "outputs": [
    {
     "data": {
      "text/html": [
       "<table>\n",
       "<thead><tr><th scope=col>id</th><th scope=col>sample</th><th scope=col>sign_type</th><th scope=col>r1</th><th scope=col>g1</th><th scope=col>b1</th><th scope=col>r2</th><th scope=col>g2</th><th scope=col>b2</th><th scope=col>r3</th><th scope=col>...</th><th scope=col>b13</th><th scope=col>r14</th><th scope=col>g14</th><th scope=col>b14</th><th scope=col>r15</th><th scope=col>g15</th><th scope=col>b15</th><th scope=col>r16</th><th scope=col>g16</th><th scope=col>b16</th></tr></thead>\n",
       "<tbody>\n",
       "\t<tr><td>1         </td><td>train     </td><td>pedestrian</td><td>155       </td><td>228       </td><td>251       </td><td>135       </td><td>188       </td><td>101       </td><td>156       </td><td>...       </td><td>244       </td><td>172       </td><td>228       </td><td>235       </td><td>177       </td><td>235       </td><td>244       </td><td> 22       </td><td> 52       </td><td> 53       </td></tr>\n",
       "\t<tr><td>2         </td><td>train     </td><td>pedestrian</td><td>142       </td><td>217       </td><td>242       </td><td>166       </td><td>204       </td><td> 44       </td><td>142       </td><td>...       </td><td>237       </td><td>182       </td><td>228       </td><td>143       </td><td>171       </td><td>228       </td><td>196       </td><td>164       </td><td>227       </td><td>237       </td></tr>\n",
       "\t<tr><td>3         </td><td>train     </td><td>pedestrian</td><td> 57       </td><td> 54       </td><td> 50       </td><td>187       </td><td>201       </td><td> 68       </td><td> 51       </td><td>...       </td><td> 59       </td><td> 76       </td><td> 84       </td><td> 22       </td><td> 82       </td><td> 93       </td><td> 17       </td><td> 58       </td><td> 60       </td><td> 60       </td></tr>\n",
       "\t<tr><td>4         </td><td>train     </td><td>pedestrian</td><td> 22       </td><td> 35       </td><td> 41       </td><td>171       </td><td>178       </td><td> 26       </td><td> 19       </td><td>...       </td><td> 34       </td><td> 64       </td><td> 61       </td><td>  4       </td><td>211       </td><td>222       </td><td> 78       </td><td> 19       </td><td> 27       </td><td> 29       </td></tr>\n",
       "\t<tr><td>5         </td><td>train     </td><td>pedestrian</td><td>169       </td><td>179       </td><td>170       </td><td>231       </td><td>254       </td><td> 27       </td><td> 97       </td><td>...       </td><td> 91       </td><td>188       </td><td>205       </td><td> 78       </td><td>125       </td><td>147       </td><td> 20       </td><td>160       </td><td>183       </td><td>187       </td></tr>\n",
       "\t<tr><td>6         </td><td>train     </td><td>pedestrian</td><td> 75       </td><td> 67       </td><td> 60       </td><td>131       </td><td> 89       </td><td> 53       </td><td>214       </td><td>...       </td><td> 26       </td><td>197       </td><td>114       </td><td> 21       </td><td>123       </td><td> 74       </td><td> 22       </td><td>180       </td><td>107       </td><td> 26       </td></tr>\n",
       "</tbody>\n",
       "</table>\n"
      ],
      "text/latex": [
       "\\begin{tabular}{r|lllllllllllllllllllllllllllllllllllllllllllllllllll}\n",
       " id & sample & sign\\_type & r1 & g1 & b1 & r2 & g2 & b2 & r3 & ... & b13 & r14 & g14 & b14 & r15 & g15 & b15 & r16 & g16 & b16\\\\\n",
       "\\hline\n",
       "\t 1          & train      & pedestrian & 155        & 228        & 251        & 135        & 188        & 101        & 156        & ...        & 244        & 172        & 228        & 235        & 177        & 235        & 244        &  22        &  52        &  53       \\\\\n",
       "\t 2          & train      & pedestrian & 142        & 217        & 242        & 166        & 204        &  44        & 142        & ...        & 237        & 182        & 228        & 143        & 171        & 228        & 196        & 164        & 227        & 237       \\\\\n",
       "\t 3          & train      & pedestrian &  57        &  54        &  50        & 187        & 201        &  68        &  51        & ...        &  59        &  76        &  84        &  22        &  82        &  93        &  17        &  58        &  60        &  60       \\\\\n",
       "\t 4          & train      & pedestrian &  22        &  35        &  41        & 171        & 178        &  26        &  19        & ...        &  34        &  64        &  61        &   4        & 211        & 222        &  78        &  19        &  27        &  29       \\\\\n",
       "\t 5          & train      & pedestrian & 169        & 179        & 170        & 231        & 254        &  27        &  97        & ...        &  91        & 188        & 205        &  78        & 125        & 147        &  20        & 160        & 183        & 187       \\\\\n",
       "\t 6          & train      & pedestrian &  75        &  67        &  60        & 131        &  89        &  53        & 214        & ...        &  26        & 197        & 114        &  21        & 123        &  74        &  22        & 180        & 107        &  26       \\\\\n",
       "\\end{tabular}\n"
      ],
      "text/markdown": [
       "\n",
       "| id | sample | sign_type | r1 | g1 | b1 | r2 | g2 | b2 | r3 | ... | b13 | r14 | g14 | b14 | r15 | g15 | b15 | r16 | g16 | b16 |\n",
       "|---|---|---|---|---|---|---|---|---|---|---|---|---|---|---|---|---|---|---|---|---|\n",
       "| 1          | train      | pedestrian | 155        | 228        | 251        | 135        | 188        | 101        | 156        | ...        | 244        | 172        | 228        | 235        | 177        | 235        | 244        |  22        |  52        |  53        |\n",
       "| 2          | train      | pedestrian | 142        | 217        | 242        | 166        | 204        |  44        | 142        | ...        | 237        | 182        | 228        | 143        | 171        | 228        | 196        | 164        | 227        | 237        |\n",
       "| 3          | train      | pedestrian |  57        |  54        |  50        | 187        | 201        |  68        |  51        | ...        |  59        |  76        |  84        |  22        |  82        |  93        |  17        |  58        |  60        |  60        |\n",
       "| 4          | train      | pedestrian |  22        |  35        |  41        | 171        | 178        |  26        |  19        | ...        |  34        |  64        |  61        |   4        | 211        | 222        |  78        |  19        |  27        |  29        |\n",
       "| 5          | train      | pedestrian | 169        | 179        | 170        | 231        | 254        |  27        |  97        | ...        |  91        | 188        | 205        |  78        | 125        | 147        |  20        | 160        | 183        | 187        |\n",
       "| 6          | train      | pedestrian |  75        |  67        |  60        | 131        |  89        |  53        | 214        | ...        |  26        | 197        | 114        |  21        | 123        |  74        |  22        | 180        | 107        |  26        |\n",
       "\n"
      ],
      "text/plain": [
       "  id sample sign_type  r1  g1  b1  r2  g2  b2  r3  ... b13 r14 g14 b14 r15 g15\n",
       "1 1  train  pedestrian 155 228 251 135 188 101 156 ... 244 172 228 235 177 235\n",
       "2 2  train  pedestrian 142 217 242 166 204  44 142 ... 237 182 228 143 171 228\n",
       "3 3  train  pedestrian  57  54  50 187 201  68  51 ...  59  76  84  22  82  93\n",
       "4 4  train  pedestrian  22  35  41 171 178  26  19 ...  34  64  61   4 211 222\n",
       "5 5  train  pedestrian 169 179 170 231 254  27  97 ...  91 188 205  78 125 147\n",
       "6 6  train  pedestrian  75  67  60 131  89  53 214 ...  26 197 114  21 123  74\n",
       "  b15 r16 g16 b16\n",
       "1 244  22  52  53\n",
       "2 196 164 227 237\n",
       "3  17  58  60  60\n",
       "4  78  19  27  29\n",
       "5  20 160 183 187\n",
       "6  22 180 107  26"
      ]
     },
     "metadata": {},
     "output_type": "display_data"
    }
   ],
   "source": [
    "head(signs)"
   ]
  },
  {
   "cell_type": "code",
   "execution_count": 171,
   "metadata": {},
   "outputs": [
    {
     "data": {
      "text/html": [
       "<table>\n",
       "<thead><tr><th></th><th scope=col>id</th><th scope=col>sample</th><th scope=col>sign_type</th><th scope=col>r1</th><th scope=col>g1</th><th scope=col>b1</th><th scope=col>r2</th><th scope=col>g2</th><th scope=col>b2</th><th scope=col>r3</th><th scope=col>...</th><th scope=col>b13</th><th scope=col>r14</th><th scope=col>g14</th><th scope=col>b14</th><th scope=col>r15</th><th scope=col>g15</th><th scope=col>b15</th><th scope=col>r16</th><th scope=col>g16</th><th scope=col>b16</th></tr></thead>\n",
       "<tbody>\n",
       "\t<tr><th scope=row>201</th><td>68        </td><td>test      </td><td>stop      </td><td>237       </td><td>249       </td><td>245       </td><td>220       </td><td> 59       </td><td> 53       </td><td>220       </td><td>...       </td><td>154       </td><td>221       </td><td> 67       </td><td> 59       </td><td>220       </td><td>59        </td><td>53        </td><td>177       </td><td>179       </td><td>165       </td></tr>\n",
       "\t<tr><th scope=row>202</th><td>69        </td><td>train     </td><td>stop      </td><td>162       </td><td>187       </td><td>181       </td><td>114       </td><td> 47       </td><td> 38       </td><td>115       </td><td>...       </td><td>209       </td><td>115       </td><td> 51       </td><td> 41       </td><td>115       </td><td>51        </td><td>41        </td><td>218       </td><td>238       </td><td>226       </td></tr>\n",
       "\t<tr><th scope=row>203</th><td>70        </td><td>test      </td><td>stop      </td><td>161       </td><td>187       </td><td>181       </td><td> 51       </td><td> 21       </td><td> 20       </td><td> 52       </td><td>...       </td><td>166       </td><td> 51       </td><td> 21       </td><td> 20       </td><td> 51       </td><td>21        </td><td>20        </td><td>172       </td><td>198       </td><td>193       </td></tr>\n",
       "\t<tr><th scope=row>204</th><td>99        </td><td>example   </td><td>stop      </td><td>204       </td><td>227       </td><td>220       </td><td>196       </td><td> 59       </td><td> 51       </td><td>202       </td><td>...       </td><td>196       </td><td>190       </td><td> 50       </td><td> 43       </td><td>190       </td><td>47        </td><td>41        </td><td>165       </td><td>195       </td><td>196       </td></tr>\n",
       "\t<tr><th scope=row>205</th><td> 8        </td><td>test      </td><td>pedestrian</td><td>118       </td><td>105       </td><td> 69       </td><td>244       </td><td>245       </td><td> 67       </td><td>132       </td><td>...       </td><td> 75       </td><td>131       </td><td>124       </td><td>  5       </td><td>106       </td><td>94        </td><td>53        </td><td>101       </td><td> 91       </td><td> 59       </td></tr>\n",
       "\t<tr><th scope=row>206</th><td>70        </td><td>test      </td><td>speed     </td><td>100       </td><td>114       </td><td>108       </td><td>142       </td><td>162       </td><td>156       </td><td>142       </td><td>...       </td><td> 43       </td><td>153       </td><td>172       </td><td>165       </td><td> 69       </td><td>81        </td><td>76        </td><td> 50       </td><td> 53       </td><td> 43       </td></tr>\n",
       "</tbody>\n",
       "</table>\n"
      ],
      "text/latex": [
       "\\begin{tabular}{r|lllllllllllllllllllllllllllllllllllllllllllllllllll}\n",
       "  & id & sample & sign\\_type & r1 & g1 & b1 & r2 & g2 & b2 & r3 & ... & b13 & r14 & g14 & b14 & r15 & g15 & b15 & r16 & g16 & b16\\\\\n",
       "\\hline\n",
       "\t201 & 68         & test       & stop       & 237        & 249        & 245        & 220        &  59        &  53        & 220        & ...        & 154        & 221        &  67        &  59        & 220        & 59         & 53         & 177        & 179        & 165       \\\\\n",
       "\t202 & 69         & train      & stop       & 162        & 187        & 181        & 114        &  47        &  38        & 115        & ...        & 209        & 115        &  51        &  41        & 115        & 51         & 41         & 218        & 238        & 226       \\\\\n",
       "\t203 & 70         & test       & stop       & 161        & 187        & 181        &  51        &  21        &  20        &  52        & ...        & 166        &  51        &  21        &  20        &  51        & 21         & 20         & 172        & 198        & 193       \\\\\n",
       "\t204 & 99         & example    & stop       & 204        & 227        & 220        & 196        &  59        &  51        & 202        & ...        & 196        & 190        &  50        &  43        & 190        & 47         & 41         & 165        & 195        & 196       \\\\\n",
       "\t205 &  8         & test       & pedestrian & 118        & 105        &  69        & 244        & 245        &  67        & 132        & ...        &  75        & 131        & 124        &   5        & 106        & 94         & 53         & 101        &  91        &  59       \\\\\n",
       "\t206 & 70         & test       & speed      & 100        & 114        & 108        & 142        & 162        & 156        & 142        & ...        &  43        & 153        & 172        & 165        &  69        & 81         & 76         &  50        &  53        &  43       \\\\\n",
       "\\end{tabular}\n"
      ],
      "text/markdown": [
       "\n",
       "| <!--/--> | id | sample | sign_type | r1 | g1 | b1 | r2 | g2 | b2 | r3 | ... | b13 | r14 | g14 | b14 | r15 | g15 | b15 | r16 | g16 | b16 |\n",
       "|---|---|---|---|---|---|---|---|---|---|---|---|---|---|---|---|---|---|---|---|---|---|\n",
       "| 201 | 68         | test       | stop       | 237        | 249        | 245        | 220        |  59        |  53        | 220        | ...        | 154        | 221        |  67        |  59        | 220        | 59         | 53         | 177        | 179        | 165        |\n",
       "| 202 | 69         | train      | stop       | 162        | 187        | 181        | 114        |  47        |  38        | 115        | ...        | 209        | 115        |  51        |  41        | 115        | 51         | 41         | 218        | 238        | 226        |\n",
       "| 203 | 70         | test       | stop       | 161        | 187        | 181        |  51        |  21        |  20        |  52        | ...        | 166        |  51        |  21        |  20        |  51        | 21         | 20         | 172        | 198        | 193        |\n",
       "| 204 | 99         | example    | stop       | 204        | 227        | 220        | 196        |  59        |  51        | 202        | ...        | 196        | 190        |  50        |  43        | 190        | 47         | 41         | 165        | 195        | 196        |\n",
       "| 205 |  8         | test       | pedestrian | 118        | 105        |  69        | 244        | 245        |  67        | 132        | ...        |  75        | 131        | 124        |   5        | 106        | 94         | 53         | 101        |  91        |  59        |\n",
       "| 206 | 70         | test       | speed      | 100        | 114        | 108        | 142        | 162        | 156        | 142        | ...        |  43        | 153        | 172        | 165        |  69        | 81         | 76         |  50        |  53        |  43        |\n",
       "\n"
      ],
      "text/plain": [
       "    id sample  sign_type  r1  g1  b1  r2  g2  b2  r3  ... b13 r14 g14 b14 r15\n",
       "201 68 test    stop       237 249 245 220  59  53 220 ... 154 221  67  59 220\n",
       "202 69 train   stop       162 187 181 114  47  38 115 ... 209 115  51  41 115\n",
       "203 70 test    stop       161 187 181  51  21  20  52 ... 166  51  21  20  51\n",
       "204 99 example stop       204 227 220 196  59  51 202 ... 196 190  50  43 190\n",
       "205  8 test    pedestrian 118 105  69 244 245  67 132 ...  75 131 124   5 106\n",
       "206 70 test    speed      100 114 108 142 162 156 142 ...  43 153 172 165  69\n",
       "    g15 b15 r16 g16 b16\n",
       "201 59  53  177 179 165\n",
       "202 51  41  218 238 226\n",
       "203 21  20  172 198 193\n",
       "204 47  41  165 195 196\n",
       "205 94  53  101  91  59\n",
       "206 81  76   50  53  43"
      ]
     },
     "metadata": {},
     "output_type": "display_data"
    }
   ],
   "source": [
    "tail(signs)"
   ]
  },
  {
   "cell_type": "code",
   "execution_count": 172,
   "metadata": {},
   "outputs": [],
   "source": [
    "signs <- signs %>% \n",
    "  select(-id, -sample)"
   ]
  },
  {
   "cell_type": "code",
   "execution_count": 173,
   "metadata": {},
   "outputs": [
    {
     "data": {
      "text/html": [
       "<ol class=list-inline>\n",
       "\t<li>206</li>\n",
       "\t<li>49</li>\n",
       "</ol>\n"
      ],
      "text/latex": [
       "\\begin{enumerate*}\n",
       "\\item 206\n",
       "\\item 49\n",
       "\\end{enumerate*}\n"
      ],
      "text/markdown": [
       "1. 206\n",
       "2. 49\n",
       "\n",
       "\n"
      ],
      "text/plain": [
       "[1] 206  49"
      ]
     },
     "metadata": {},
     "output_type": "display_data"
    }
   ],
   "source": [
    "dim(signs)"
   ]
  },
  {
   "cell_type": "code",
   "execution_count": 174,
   "metadata": {},
   "outputs": [
    {
     "data": {
      "text/html": [
       "<table>\n",
       "<thead><tr><th scope=col>sign_type</th><th scope=col>r1</th><th scope=col>g1</th><th scope=col>b1</th><th scope=col>r2</th><th scope=col>g2</th><th scope=col>b2</th><th scope=col>r3</th><th scope=col>g3</th><th scope=col>b3</th><th scope=col>...</th><th scope=col>b13</th><th scope=col>r14</th><th scope=col>g14</th><th scope=col>b14</th><th scope=col>r15</th><th scope=col>g15</th><th scope=col>b15</th><th scope=col>r16</th><th scope=col>g16</th><th scope=col>b16</th></tr></thead>\n",
       "<tbody>\n",
       "\t<tr><td>pedestrian</td><td>155       </td><td>228       </td><td>251       </td><td>135       </td><td>188       </td><td>101       </td><td>156       </td><td>227       </td><td>245       </td><td>...       </td><td>244       </td><td>172       </td><td>228       </td><td>235       </td><td>177       </td><td>235       </td><td>244       </td><td> 22       </td><td> 52       </td><td> 53       </td></tr>\n",
       "\t<tr><td>pedestrian</td><td>142       </td><td>217       </td><td>242       </td><td>166       </td><td>204       </td><td> 44       </td><td>142       </td><td>217       </td><td>242       </td><td>...       </td><td>237       </td><td>182       </td><td>228       </td><td>143       </td><td>171       </td><td>228       </td><td>196       </td><td>164       </td><td>227       </td><td>237       </td></tr>\n",
       "\t<tr><td>pedestrian</td><td> 57       </td><td> 54       </td><td> 50       </td><td>187       </td><td>201       </td><td> 68       </td><td> 51       </td><td> 51       </td><td> 45       </td><td>...       </td><td> 59       </td><td> 76       </td><td> 84       </td><td> 22       </td><td> 82       </td><td> 93       </td><td> 17       </td><td> 58       </td><td> 60       </td><td> 60       </td></tr>\n",
       "\t<tr><td>pedestrian</td><td> 22       </td><td> 35       </td><td> 41       </td><td>171       </td><td>178       </td><td> 26       </td><td> 19       </td><td> 27       </td><td> 29       </td><td>...       </td><td> 34       </td><td> 64       </td><td> 61       </td><td>  4       </td><td>211       </td><td>222       </td><td> 78       </td><td> 19       </td><td> 27       </td><td> 29       </td></tr>\n",
       "\t<tr><td>pedestrian</td><td>169       </td><td>179       </td><td>170       </td><td>231       </td><td>254       </td><td> 27       </td><td> 97       </td><td>107       </td><td> 99       </td><td>...       </td><td> 91       </td><td>188       </td><td>205       </td><td> 78       </td><td>125       </td><td>147       </td><td> 20       </td><td>160       </td><td>183       </td><td>187       </td></tr>\n",
       "\t<tr><td>pedestrian</td><td> 75       </td><td> 67       </td><td> 60       </td><td>131       </td><td> 89       </td><td> 53       </td><td>214       </td><td>144       </td><td> 75       </td><td>...       </td><td> 26       </td><td>197       </td><td>114       </td><td> 21       </td><td>123       </td><td> 74       </td><td> 22       </td><td>180       </td><td>107       </td><td> 26       </td></tr>\n",
       "</tbody>\n",
       "</table>\n"
      ],
      "text/latex": [
       "\\begin{tabular}{r|lllllllllllllllllllllllllllllllllllllllllllllllll}\n",
       " sign\\_type & r1 & g1 & b1 & r2 & g2 & b2 & r3 & g3 & b3 & ... & b13 & r14 & g14 & b14 & r15 & g15 & b15 & r16 & g16 & b16\\\\\n",
       "\\hline\n",
       "\t pedestrian & 155        & 228        & 251        & 135        & 188        & 101        & 156        & 227        & 245        & ...        & 244        & 172        & 228        & 235        & 177        & 235        & 244        &  22        &  52        &  53       \\\\\n",
       "\t pedestrian & 142        & 217        & 242        & 166        & 204        &  44        & 142        & 217        & 242        & ...        & 237        & 182        & 228        & 143        & 171        & 228        & 196        & 164        & 227        & 237       \\\\\n",
       "\t pedestrian &  57        &  54        &  50        & 187        & 201        &  68        &  51        &  51        &  45        & ...        &  59        &  76        &  84        &  22        &  82        &  93        &  17        &  58        &  60        &  60       \\\\\n",
       "\t pedestrian &  22        &  35        &  41        & 171        & 178        &  26        &  19        &  27        &  29        & ...        &  34        &  64        &  61        &   4        & 211        & 222        &  78        &  19        &  27        &  29       \\\\\n",
       "\t pedestrian & 169        & 179        & 170        & 231        & 254        &  27        &  97        & 107        &  99        & ...        &  91        & 188        & 205        &  78        & 125        & 147        &  20        & 160        & 183        & 187       \\\\\n",
       "\t pedestrian &  75        &  67        &  60        & 131        &  89        &  53        & 214        & 144        &  75        & ...        &  26        & 197        & 114        &  21        & 123        &  74        &  22        & 180        & 107        &  26       \\\\\n",
       "\\end{tabular}\n"
      ],
      "text/markdown": [
       "\n",
       "| sign_type | r1 | g1 | b1 | r2 | g2 | b2 | r3 | g3 | b3 | ... | b13 | r14 | g14 | b14 | r15 | g15 | b15 | r16 | g16 | b16 |\n",
       "|---|---|---|---|---|---|---|---|---|---|---|---|---|---|---|---|---|---|---|---|---|\n",
       "| pedestrian | 155        | 228        | 251        | 135        | 188        | 101        | 156        | 227        | 245        | ...        | 244        | 172        | 228        | 235        | 177        | 235        | 244        |  22        |  52        |  53        |\n",
       "| pedestrian | 142        | 217        | 242        | 166        | 204        |  44        | 142        | 217        | 242        | ...        | 237        | 182        | 228        | 143        | 171        | 228        | 196        | 164        | 227        | 237        |\n",
       "| pedestrian |  57        |  54        |  50        | 187        | 201        |  68        |  51        |  51        |  45        | ...        |  59        |  76        |  84        |  22        |  82        |  93        |  17        |  58        |  60        |  60        |\n",
       "| pedestrian |  22        |  35        |  41        | 171        | 178        |  26        |  19        |  27        |  29        | ...        |  34        |  64        |  61        |   4        | 211        | 222        |  78        |  19        |  27        |  29        |\n",
       "| pedestrian | 169        | 179        | 170        | 231        | 254        |  27        |  97        | 107        |  99        | ...        |  91        | 188        | 205        |  78        | 125        | 147        |  20        | 160        | 183        | 187        |\n",
       "| pedestrian |  75        |  67        |  60        | 131        |  89        |  53        | 214        | 144        |  75        | ...        |  26        | 197        | 114        |  21        | 123        |  74        |  22        | 180        | 107        |  26        |\n",
       "\n"
      ],
      "text/plain": [
       "  sign_type  r1  g1  b1  r2  g2  b2  r3  g3  b3  ... b13 r14 g14 b14 r15 g15\n",
       "1 pedestrian 155 228 251 135 188 101 156 227 245 ... 244 172 228 235 177 235\n",
       "2 pedestrian 142 217 242 166 204  44 142 217 242 ... 237 182 228 143 171 228\n",
       "3 pedestrian  57  54  50 187 201  68  51  51  45 ...  59  76  84  22  82  93\n",
       "4 pedestrian  22  35  41 171 178  26  19  27  29 ...  34  64  61   4 211 222\n",
       "5 pedestrian 169 179 170 231 254  27  97 107  99 ...  91 188 205  78 125 147\n",
       "6 pedestrian  75  67  60 131  89  53 214 144  75 ...  26 197 114  21 123  74\n",
       "  b15 r16 g16 b16\n",
       "1 244  22  52  53\n",
       "2 196 164 227 237\n",
       "3  17  58  60  60\n",
       "4  78  19  27  29\n",
       "5  20 160 183 187\n",
       "6  22 180 107  26"
      ]
     },
     "metadata": {},
     "output_type": "display_data"
    }
   ],
   "source": [
    "head(signs)"
   ]
  },
  {
   "cell_type": "code",
   "execution_count": 175,
   "metadata": {},
   "outputs": [
    {
     "data": {
      "text/html": [
       "<table>\n",
       "<thead><tr><th></th><th scope=col>sign_type</th><th scope=col>r1</th><th scope=col>g1</th><th scope=col>b1</th><th scope=col>r2</th><th scope=col>g2</th><th scope=col>b2</th><th scope=col>r3</th><th scope=col>g3</th><th scope=col>b3</th><th scope=col>...</th><th scope=col>b13</th><th scope=col>r14</th><th scope=col>g14</th><th scope=col>b14</th><th scope=col>r15</th><th scope=col>g15</th><th scope=col>b15</th><th scope=col>r16</th><th scope=col>g16</th><th scope=col>b16</th></tr></thead>\n",
       "<tbody>\n",
       "\t<tr><th scope=row>201</th><td>stop      </td><td>237       </td><td>249       </td><td>245       </td><td>220       </td><td> 59       </td><td> 53       </td><td>220       </td><td> 59       </td><td> 53       </td><td>...       </td><td>154       </td><td>221       </td><td> 67       </td><td> 59       </td><td>220       </td><td>59        </td><td>53        </td><td>177       </td><td>179       </td><td>165       </td></tr>\n",
       "\t<tr><th scope=row>202</th><td>stop      </td><td>162       </td><td>187       </td><td>181       </td><td>114       </td><td> 47       </td><td> 38       </td><td>115       </td><td> 51       </td><td> 41       </td><td>...       </td><td>209       </td><td>115       </td><td> 51       </td><td> 41       </td><td>115       </td><td>51        </td><td>41        </td><td>218       </td><td>238       </td><td>226       </td></tr>\n",
       "\t<tr><th scope=row>203</th><td>stop      </td><td>161       </td><td>187       </td><td>181       </td><td> 51       </td><td> 21       </td><td> 20       </td><td> 52       </td><td> 24       </td><td> 22       </td><td>...       </td><td>166       </td><td> 51       </td><td> 21       </td><td> 20       </td><td> 51       </td><td>21        </td><td>20        </td><td>172       </td><td>198       </td><td>193       </td></tr>\n",
       "\t<tr><th scope=row>204</th><td>stop      </td><td>204       </td><td>227       </td><td>220       </td><td>196       </td><td> 59       </td><td> 51       </td><td>202       </td><td> 67       </td><td> 59       </td><td>...       </td><td>196       </td><td>190       </td><td> 50       </td><td> 43       </td><td>190       </td><td>47        </td><td>41        </td><td>165       </td><td>195       </td><td>196       </td></tr>\n",
       "\t<tr><th scope=row>205</th><td>pedestrian</td><td>118       </td><td>105       </td><td> 69       </td><td>244       </td><td>245       </td><td> 67       </td><td>132       </td><td>123       </td><td> 12       </td><td>...       </td><td> 75       </td><td>131       </td><td>124       </td><td>  5       </td><td>106       </td><td>94        </td><td>53        </td><td>101       </td><td> 91       </td><td> 59       </td></tr>\n",
       "\t<tr><th scope=row>206</th><td>speed     </td><td>100       </td><td>114       </td><td>108       </td><td>142       </td><td>162       </td><td>156       </td><td>142       </td><td>162       </td><td>156       </td><td>...       </td><td> 43       </td><td>153       </td><td>172       </td><td>165       </td><td> 69       </td><td>81        </td><td>76        </td><td> 50       </td><td> 53       </td><td> 43       </td></tr>\n",
       "</tbody>\n",
       "</table>\n"
      ],
      "text/latex": [
       "\\begin{tabular}{r|lllllllllllllllllllllllllllllllllllllllllllllllll}\n",
       "  & sign\\_type & r1 & g1 & b1 & r2 & g2 & b2 & r3 & g3 & b3 & ... & b13 & r14 & g14 & b14 & r15 & g15 & b15 & r16 & g16 & b16\\\\\n",
       "\\hline\n",
       "\t201 & stop       & 237        & 249        & 245        & 220        &  59        &  53        & 220        &  59        &  53        & ...        & 154        & 221        &  67        &  59        & 220        & 59         & 53         & 177        & 179        & 165       \\\\\n",
       "\t202 & stop       & 162        & 187        & 181        & 114        &  47        &  38        & 115        &  51        &  41        & ...        & 209        & 115        &  51        &  41        & 115        & 51         & 41         & 218        & 238        & 226       \\\\\n",
       "\t203 & stop       & 161        & 187        & 181        &  51        &  21        &  20        &  52        &  24        &  22        & ...        & 166        &  51        &  21        &  20        &  51        & 21         & 20         & 172        & 198        & 193       \\\\\n",
       "\t204 & stop       & 204        & 227        & 220        & 196        &  59        &  51        & 202        &  67        &  59        & ...        & 196        & 190        &  50        &  43        & 190        & 47         & 41         & 165        & 195        & 196       \\\\\n",
       "\t205 & pedestrian & 118        & 105        &  69        & 244        & 245        &  67        & 132        & 123        &  12        & ...        &  75        & 131        & 124        &   5        & 106        & 94         & 53         & 101        &  91        &  59       \\\\\n",
       "\t206 & speed      & 100        & 114        & 108        & 142        & 162        & 156        & 142        & 162        & 156        & ...        &  43        & 153        & 172        & 165        &  69        & 81         & 76         &  50        &  53        &  43       \\\\\n",
       "\\end{tabular}\n"
      ],
      "text/markdown": [
       "\n",
       "| <!--/--> | sign_type | r1 | g1 | b1 | r2 | g2 | b2 | r3 | g3 | b3 | ... | b13 | r14 | g14 | b14 | r15 | g15 | b15 | r16 | g16 | b16 |\n",
       "|---|---|---|---|---|---|---|---|---|---|---|---|---|---|---|---|---|---|---|---|---|---|\n",
       "| 201 | stop       | 237        | 249        | 245        | 220        |  59        |  53        | 220        |  59        |  53        | ...        | 154        | 221        |  67        |  59        | 220        | 59         | 53         | 177        | 179        | 165        |\n",
       "| 202 | stop       | 162        | 187        | 181        | 114        |  47        |  38        | 115        |  51        |  41        | ...        | 209        | 115        |  51        |  41        | 115        | 51         | 41         | 218        | 238        | 226        |\n",
       "| 203 | stop       | 161        | 187        | 181        |  51        |  21        |  20        |  52        |  24        |  22        | ...        | 166        |  51        |  21        |  20        |  51        | 21         | 20         | 172        | 198        | 193        |\n",
       "| 204 | stop       | 204        | 227        | 220        | 196        |  59        |  51        | 202        |  67        |  59        | ...        | 196        | 190        |  50        |  43        | 190        | 47         | 41         | 165        | 195        | 196        |\n",
       "| 205 | pedestrian | 118        | 105        |  69        | 244        | 245        |  67        | 132        | 123        |  12        | ...        |  75        | 131        | 124        |   5        | 106        | 94         | 53         | 101        |  91        |  59        |\n",
       "| 206 | speed      | 100        | 114        | 108        | 142        | 162        | 156        | 142        | 162        | 156        | ...        |  43        | 153        | 172        | 165        |  69        | 81         | 76         |  50        |  53        |  43        |\n",
       "\n"
      ],
      "text/plain": [
       "    sign_type  r1  g1  b1  r2  g2  b2  r3  g3  b3  ... b13 r14 g14 b14 r15 g15\n",
       "201 stop       237 249 245 220  59  53 220  59  53 ... 154 221  67  59 220 59 \n",
       "202 stop       162 187 181 114  47  38 115  51  41 ... 209 115  51  41 115 51 \n",
       "203 stop       161 187 181  51  21  20  52  24  22 ... 166  51  21  20  51 21 \n",
       "204 stop       204 227 220 196  59  51 202  67  59 ... 196 190  50  43 190 47 \n",
       "205 pedestrian 118 105  69 244 245  67 132 123  12 ...  75 131 124   5 106 94 \n",
       "206 speed      100 114 108 142 162 156 142 162 156 ...  43 153 172 165  69 81 \n",
       "    b15 r16 g16 b16\n",
       "201 53  177 179 165\n",
       "202 41  218 238 226\n",
       "203 20  172 198 193\n",
       "204 41  165 195 196\n",
       "205 53  101  91  59\n",
       "206 76   50  53  43"
      ]
     },
     "metadata": {},
     "output_type": "display_data"
    }
   ],
   "source": [
    "tail(signs)"
   ]
  },
  {
   "cell_type": "code",
   "execution_count": 176,
   "metadata": {},
   "outputs": [
    {
     "data": {
      "text/html": [
       "<table>\n",
       "<thead><tr><th scope=col>sign_type</th><th scope=col>r1</th><th scope=col>g1</th><th scope=col>b1</th><th scope=col>r2</th><th scope=col>g2</th><th scope=col>b2</th><th scope=col>r3</th><th scope=col>g3</th><th scope=col>b3</th><th scope=col>...</th><th scope=col>b13</th><th scope=col>r14</th><th scope=col>g14</th><th scope=col>b14</th><th scope=col>r15</th><th scope=col>g15</th><th scope=col>b15</th><th scope=col>r16</th><th scope=col>g16</th><th scope=col>b16</th></tr></thead>\n",
       "<tbody>\n",
       "\t<tr><td>pedestrian</td><td>155       </td><td>228       </td><td>251       </td><td>135       </td><td>188       </td><td>101       </td><td>156       </td><td>227       </td><td>245       </td><td>...       </td><td>244       </td><td>172       </td><td>228       </td><td>235       </td><td>177       </td><td>235       </td><td>244       </td><td> 22       </td><td> 52       </td><td> 53       </td></tr>\n",
       "\t<tr><td>pedestrian</td><td>142       </td><td>217       </td><td>242       </td><td>166       </td><td>204       </td><td> 44       </td><td>142       </td><td>217       </td><td>242       </td><td>...       </td><td>237       </td><td>182       </td><td>228       </td><td>143       </td><td>171       </td><td>228       </td><td>196       </td><td>164       </td><td>227       </td><td>237       </td></tr>\n",
       "\t<tr><td>pedestrian</td><td> 57       </td><td> 54       </td><td> 50       </td><td>187       </td><td>201       </td><td> 68       </td><td> 51       </td><td> 51       </td><td> 45       </td><td>...       </td><td> 59       </td><td> 76       </td><td> 84       </td><td> 22       </td><td> 82       </td><td> 93       </td><td> 17       </td><td> 58       </td><td> 60       </td><td> 60       </td></tr>\n",
       "\t<tr><td>pedestrian</td><td> 22       </td><td> 35       </td><td> 41       </td><td>171       </td><td>178       </td><td> 26       </td><td> 19       </td><td> 27       </td><td> 29       </td><td>...       </td><td> 34       </td><td> 64       </td><td> 61       </td><td>  4       </td><td>211       </td><td>222       </td><td> 78       </td><td> 19       </td><td> 27       </td><td> 29       </td></tr>\n",
       "\t<tr><td>pedestrian</td><td>169       </td><td>179       </td><td>170       </td><td>231       </td><td>254       </td><td> 27       </td><td> 97       </td><td>107       </td><td> 99       </td><td>...       </td><td> 91       </td><td>188       </td><td>205       </td><td> 78       </td><td>125       </td><td>147       </td><td> 20       </td><td>160       </td><td>183       </td><td>187       </td></tr>\n",
       "\t<tr><td>pedestrian</td><td> 75       </td><td> 67       </td><td> 60       </td><td>131       </td><td> 89       </td><td> 53       </td><td>214       </td><td>144       </td><td> 75       </td><td>...       </td><td> 26       </td><td>197       </td><td>114       </td><td> 21       </td><td>123       </td><td> 74       </td><td> 22       </td><td>180       </td><td>107       </td><td> 26       </td></tr>\n",
       "</tbody>\n",
       "</table>\n"
      ],
      "text/latex": [
       "\\begin{tabular}{r|lllllllllllllllllllllllllllllllllllllllllllllllll}\n",
       " sign\\_type & r1 & g1 & b1 & r2 & g2 & b2 & r3 & g3 & b3 & ... & b13 & r14 & g14 & b14 & r15 & g15 & b15 & r16 & g16 & b16\\\\\n",
       "\\hline\n",
       "\t pedestrian & 155        & 228        & 251        & 135        & 188        & 101        & 156        & 227        & 245        & ...        & 244        & 172        & 228        & 235        & 177        & 235        & 244        &  22        &  52        &  53       \\\\\n",
       "\t pedestrian & 142        & 217        & 242        & 166        & 204        &  44        & 142        & 217        & 242        & ...        & 237        & 182        & 228        & 143        & 171        & 228        & 196        & 164        & 227        & 237       \\\\\n",
       "\t pedestrian &  57        &  54        &  50        & 187        & 201        &  68        &  51        &  51        &  45        & ...        &  59        &  76        &  84        &  22        &  82        &  93        &  17        &  58        &  60        &  60       \\\\\n",
       "\t pedestrian &  22        &  35        &  41        & 171        & 178        &  26        &  19        &  27        &  29        & ...        &  34        &  64        &  61        &   4        & 211        & 222        &  78        &  19        &  27        &  29       \\\\\n",
       "\t pedestrian & 169        & 179        & 170        & 231        & 254        &  27        &  97        & 107        &  99        & ...        &  91        & 188        & 205        &  78        & 125        & 147        &  20        & 160        & 183        & 187       \\\\\n",
       "\t pedestrian &  75        &  67        &  60        & 131        &  89        &  53        & 214        & 144        &  75        & ...        &  26        & 197        & 114        &  21        & 123        &  74        &  22        & 180        & 107        &  26       \\\\\n",
       "\\end{tabular}\n"
      ],
      "text/markdown": [
       "\n",
       "| sign_type | r1 | g1 | b1 | r2 | g2 | b2 | r3 | g3 | b3 | ... | b13 | r14 | g14 | b14 | r15 | g15 | b15 | r16 | g16 | b16 |\n",
       "|---|---|---|---|---|---|---|---|---|---|---|---|---|---|---|---|---|---|---|---|---|\n",
       "| pedestrian | 155        | 228        | 251        | 135        | 188        | 101        | 156        | 227        | 245        | ...        | 244        | 172        | 228        | 235        | 177        | 235        | 244        |  22        |  52        |  53        |\n",
       "| pedestrian | 142        | 217        | 242        | 166        | 204        |  44        | 142        | 217        | 242        | ...        | 237        | 182        | 228        | 143        | 171        | 228        | 196        | 164        | 227        | 237        |\n",
       "| pedestrian |  57        |  54        |  50        | 187        | 201        |  68        |  51        |  51        |  45        | ...        |  59        |  76        |  84        |  22        |  82        |  93        |  17        |  58        |  60        |  60        |\n",
       "| pedestrian |  22        |  35        |  41        | 171        | 178        |  26        |  19        |  27        |  29        | ...        |  34        |  64        |  61        |   4        | 211        | 222        |  78        |  19        |  27        |  29        |\n",
       "| pedestrian | 169        | 179        | 170        | 231        | 254        |  27        |  97        | 107        |  99        | ...        |  91        | 188        | 205        |  78        | 125        | 147        |  20        | 160        | 183        | 187        |\n",
       "| pedestrian |  75        |  67        |  60        | 131        |  89        |  53        | 214        | 144        |  75        | ...        |  26        | 197        | 114        |  21        | 123        |  74        |  22        | 180        | 107        |  26        |\n",
       "\n"
      ],
      "text/plain": [
       "  sign_type  r1  g1  b1  r2  g2  b2  r3  g3  b3  ... b13 r14 g14 b14 r15 g15\n",
       "1 pedestrian 155 228 251 135 188 101 156 227 245 ... 244 172 228 235 177 235\n",
       "2 pedestrian 142 217 242 166 204  44 142 217 242 ... 237 182 228 143 171 228\n",
       "3 pedestrian  57  54  50 187 201  68  51  51  45 ...  59  76  84  22  82  93\n",
       "4 pedestrian  22  35  41 171 178  26  19  27  29 ...  34  64  61   4 211 222\n",
       "5 pedestrian 169 179 170 231 254  27  97 107  99 ...  91 188 205  78 125 147\n",
       "6 pedestrian  75  67  60 131  89  53 214 144  75 ...  26 197 114  21 123  74\n",
       "  b15 r16 g16 b16\n",
       "1 244  22  52  53\n",
       "2 196 164 227 237\n",
       "3  17  58  60  60\n",
       "4  78  19  27  29\n",
       "5  20 160 183 187\n",
       "6  22 180 107  26"
      ]
     },
     "metadata": {},
     "output_type": "display_data"
    }
   ],
   "source": [
    "head(signs[1:203,])"
   ]
  },
  {
   "cell_type": "code",
   "execution_count": 177,
   "metadata": {},
   "outputs": [
    {
     "data": {
      "text/html": [
       "<table>\n",
       "<thead><tr><th></th><th scope=col>sign_type</th><th scope=col>r1</th><th scope=col>g1</th><th scope=col>b1</th><th scope=col>r2</th><th scope=col>g2</th><th scope=col>b2</th><th scope=col>r3</th><th scope=col>g3</th><th scope=col>b3</th><th scope=col>...</th><th scope=col>b13</th><th scope=col>r14</th><th scope=col>g14</th><th scope=col>b14</th><th scope=col>r15</th><th scope=col>g15</th><th scope=col>b15</th><th scope=col>r16</th><th scope=col>g16</th><th scope=col>b16</th></tr></thead>\n",
       "<tbody>\n",
       "\t<tr><th scope=row>204</th><td>stop      </td><td>204       </td><td>227       </td><td>220       </td><td>196       </td><td> 59       </td><td> 51       </td><td>202       </td><td> 67       </td><td> 59       </td><td>...       </td><td>196       </td><td>190       </td><td> 50       </td><td> 43       </td><td>190       </td><td>47        </td><td>41        </td><td>165       </td><td>195       </td><td>196       </td></tr>\n",
       "\t<tr><th scope=row>205</th><td>pedestrian</td><td>118       </td><td>105       </td><td> 69       </td><td>244       </td><td>245       </td><td> 67       </td><td>132       </td><td>123       </td><td> 12       </td><td>...       </td><td> 75       </td><td>131       </td><td>124       </td><td>  5       </td><td>106       </td><td>94        </td><td>53        </td><td>101       </td><td> 91       </td><td> 59       </td></tr>\n",
       "\t<tr><th scope=row>206</th><td>speed     </td><td>100       </td><td>114       </td><td>108       </td><td>142       </td><td>162       </td><td>156       </td><td>142       </td><td>162       </td><td>156       </td><td>...       </td><td> 43       </td><td>153       </td><td>172       </td><td>165       </td><td> 69       </td><td>81        </td><td>76        </td><td> 50       </td><td> 53       </td><td> 43       </td></tr>\n",
       "</tbody>\n",
       "</table>\n"
      ],
      "text/latex": [
       "\\begin{tabular}{r|lllllllllllllllllllllllllllllllllllllllllllllllll}\n",
       "  & sign\\_type & r1 & g1 & b1 & r2 & g2 & b2 & r3 & g3 & b3 & ... & b13 & r14 & g14 & b14 & r15 & g15 & b15 & r16 & g16 & b16\\\\\n",
       "\\hline\n",
       "\t204 & stop       & 204        & 227        & 220        & 196        &  59        &  51        & 202        &  67        &  59        & ...        & 196        & 190        &  50        &  43        & 190        & 47         & 41         & 165        & 195        & 196       \\\\\n",
       "\t205 & pedestrian & 118        & 105        &  69        & 244        & 245        &  67        & 132        & 123        &  12        & ...        &  75        & 131        & 124        &   5        & 106        & 94         & 53         & 101        &  91        &  59       \\\\\n",
       "\t206 & speed      & 100        & 114        & 108        & 142        & 162        & 156        & 142        & 162        & 156        & ...        &  43        & 153        & 172        & 165        &  69        & 81         & 76         &  50        &  53        &  43       \\\\\n",
       "\\end{tabular}\n"
      ],
      "text/markdown": [
       "\n",
       "| <!--/--> | sign_type | r1 | g1 | b1 | r2 | g2 | b2 | r3 | g3 | b3 | ... | b13 | r14 | g14 | b14 | r15 | g15 | b15 | r16 | g16 | b16 |\n",
       "|---|---|---|---|---|---|---|---|---|---|---|---|---|---|---|---|---|---|---|---|---|---|\n",
       "| 204 | stop       | 204        | 227        | 220        | 196        |  59        |  51        | 202        |  67        |  59        | ...        | 196        | 190        |  50        |  43        | 190        | 47         | 41         | 165        | 195        | 196        |\n",
       "| 205 | pedestrian | 118        | 105        |  69        | 244        | 245        |  67        | 132        | 123        |  12        | ...        |  75        | 131        | 124        |   5        | 106        | 94         | 53         | 101        |  91        |  59        |\n",
       "| 206 | speed      | 100        | 114        | 108        | 142        | 162        | 156        | 142        | 162        | 156        | ...        |  43        | 153        | 172        | 165        |  69        | 81         | 76         |  50        |  53        |  43        |\n",
       "\n"
      ],
      "text/plain": [
       "    sign_type  r1  g1  b1  r2  g2  b2  r3  g3  b3  ... b13 r14 g14 b14 r15 g15\n",
       "204 stop       204 227 220 196  59  51 202  67  59 ... 196 190  50  43 190 47 \n",
       "205 pedestrian 118 105  69 244 245  67 132 123  12 ...  75 131 124   5 106 94 \n",
       "206 speed      100 114 108 142 162 156 142 162 156 ...  43 153 172 165  69 81 \n",
       "    b15 r16 g16 b16\n",
       "204 41  165 195 196\n",
       "205 53  101  91  59\n",
       "206 76   50  53  43"
      ]
     },
     "metadata": {},
     "output_type": "display_data"
    }
   ],
   "source": [
    "head(signs[204:206,])"
   ]
  },
  {
   "cell_type": "code",
   "execution_count": 178,
   "metadata": {},
   "outputs": [],
   "source": [
    "train=signs[1:203,]"
   ]
  },
  {
   "cell_type": "code",
   "execution_count": 179,
   "metadata": {},
   "outputs": [],
   "source": [
    "test=signs[204:206,]"
   ]
  },
  {
   "cell_type": "code",
   "execution_count": 180,
   "metadata": {},
   "outputs": [
    {
     "data": {
      "text/html": [
       "<table>\n",
       "<thead><tr><th></th><th scope=col>sign_type</th><th scope=col>r1</th><th scope=col>g1</th><th scope=col>b1</th><th scope=col>r2</th><th scope=col>g2</th><th scope=col>b2</th><th scope=col>r3</th><th scope=col>g3</th><th scope=col>b3</th><th scope=col>...</th><th scope=col>b13</th><th scope=col>r14</th><th scope=col>g14</th><th scope=col>b14</th><th scope=col>r15</th><th scope=col>g15</th><th scope=col>b15</th><th scope=col>r16</th><th scope=col>g16</th><th scope=col>b16</th></tr></thead>\n",
       "<tbody>\n",
       "\t<tr><th scope=row>204</th><td>stop      </td><td>204       </td><td>227       </td><td>220       </td><td>196       </td><td> 59       </td><td> 51       </td><td>202       </td><td> 67       </td><td> 59       </td><td>...       </td><td>196       </td><td>190       </td><td> 50       </td><td> 43       </td><td>190       </td><td>47        </td><td>41        </td><td>165       </td><td>195       </td><td>196       </td></tr>\n",
       "\t<tr><th scope=row>205</th><td>pedestrian</td><td>118       </td><td>105       </td><td> 69       </td><td>244       </td><td>245       </td><td> 67       </td><td>132       </td><td>123       </td><td> 12       </td><td>...       </td><td> 75       </td><td>131       </td><td>124       </td><td>  5       </td><td>106       </td><td>94        </td><td>53        </td><td>101       </td><td> 91       </td><td> 59       </td></tr>\n",
       "\t<tr><th scope=row>206</th><td>speed     </td><td>100       </td><td>114       </td><td>108       </td><td>142       </td><td>162       </td><td>156       </td><td>142       </td><td>162       </td><td>156       </td><td>...       </td><td> 43       </td><td>153       </td><td>172       </td><td>165       </td><td> 69       </td><td>81        </td><td>76        </td><td> 50       </td><td> 53       </td><td> 43       </td></tr>\n",
       "</tbody>\n",
       "</table>\n"
      ],
      "text/latex": [
       "\\begin{tabular}{r|lllllllllllllllllllllllllllllllllllllllllllllllll}\n",
       "  & sign\\_type & r1 & g1 & b1 & r2 & g2 & b2 & r3 & g3 & b3 & ... & b13 & r14 & g14 & b14 & r15 & g15 & b15 & r16 & g16 & b16\\\\\n",
       "\\hline\n",
       "\t204 & stop       & 204        & 227        & 220        & 196        &  59        &  51        & 202        &  67        &  59        & ...        & 196        & 190        &  50        &  43        & 190        & 47         & 41         & 165        & 195        & 196       \\\\\n",
       "\t205 & pedestrian & 118        & 105        &  69        & 244        & 245        &  67        & 132        & 123        &  12        & ...        &  75        & 131        & 124        &   5        & 106        & 94         & 53         & 101        &  91        &  59       \\\\\n",
       "\t206 & speed      & 100        & 114        & 108        & 142        & 162        & 156        & 142        & 162        & 156        & ...        &  43        & 153        & 172        & 165        &  69        & 81         & 76         &  50        &  53        &  43       \\\\\n",
       "\\end{tabular}\n"
      ],
      "text/markdown": [
       "\n",
       "| <!--/--> | sign_type | r1 | g1 | b1 | r2 | g2 | b2 | r3 | g3 | b3 | ... | b13 | r14 | g14 | b14 | r15 | g15 | b15 | r16 | g16 | b16 |\n",
       "|---|---|---|---|---|---|---|---|---|---|---|---|---|---|---|---|---|---|---|---|---|---|\n",
       "| 204 | stop       | 204        | 227        | 220        | 196        |  59        |  51        | 202        |  67        |  59        | ...        | 196        | 190        |  50        |  43        | 190        | 47         | 41         | 165        | 195        | 196        |\n",
       "| 205 | pedestrian | 118        | 105        |  69        | 244        | 245        |  67        | 132        | 123        |  12        | ...        |  75        | 131        | 124        |   5        | 106        | 94         | 53         | 101        |  91        |  59        |\n",
       "| 206 | speed      | 100        | 114        | 108        | 142        | 162        | 156        | 142        | 162        | 156        | ...        |  43        | 153        | 172        | 165        |  69        | 81         | 76         |  50        |  53        |  43        |\n",
       "\n"
      ],
      "text/plain": [
       "    sign_type  r1  g1  b1  r2  g2  b2  r3  g3  b3  ... b13 r14 g14 b14 r15 g15\n",
       "204 stop       204 227 220 196  59  51 202  67  59 ... 196 190  50  43 190 47 \n",
       "205 pedestrian 118 105  69 244 245  67 132 123  12 ...  75 131 124   5 106 94 \n",
       "206 speed      100 114 108 142 162 156 142 162 156 ...  43 153 172 165  69 81 \n",
       "    b15 r16 g16 b16\n",
       "204 41  165 195 196\n",
       "205 53  101  91  59\n",
       "206 76   50  53  43"
      ]
     },
     "metadata": {},
     "output_type": "display_data"
    }
   ],
   "source": [
    "head(test)"
   ]
  },
  {
   "cell_type": "code",
   "execution_count": 181,
   "metadata": {},
   "outputs": [],
   "source": [
    "sign_test_labels <- test$sign_type"
   ]
  },
  {
   "cell_type": "code",
   "execution_count": 182,
   "metadata": {},
   "outputs": [
    {
     "data": {
      "text/html": [
       "<ol class=list-inline>\n",
       "\t<li>'stop'</li>\n",
       "\t<li>'pedestrian'</li>\n",
       "\t<li>'speed'</li>\n",
       "</ol>\n"
      ],
      "text/latex": [
       "\\begin{enumerate*}\n",
       "\\item 'stop'\n",
       "\\item 'pedestrian'\n",
       "\\item 'speed'\n",
       "\\end{enumerate*}\n"
      ],
      "text/markdown": [
       "1. 'stop'\n",
       "2. 'pedestrian'\n",
       "3. 'speed'\n",
       "\n",
       "\n"
      ],
      "text/plain": [
       "[1] \"stop\"       \"pedestrian\" \"speed\"     "
      ]
     },
     "metadata": {},
     "output_type": "display_data"
    }
   ],
   "source": [
    "sign_test_labels"
   ]
  },
  {
   "cell_type": "code",
   "execution_count": 183,
   "metadata": {},
   "outputs": [],
   "source": [
    "sign_train_labels <- train$sign_type"
   ]
  },
  {
   "cell_type": "code",
   "execution_count": 184,
   "metadata": {},
   "outputs": [
    {
     "data": {
      "text/html": [
       "<ol class=list-inline>\n",
       "\t<li>'pedestrian'</li>\n",
       "\t<li>'pedestrian'</li>\n",
       "\t<li>'pedestrian'</li>\n",
       "\t<li>'pedestrian'</li>\n",
       "\t<li>'pedestrian'</li>\n",
       "\t<li>'pedestrian'</li>\n",
       "</ol>\n"
      ],
      "text/latex": [
       "\\begin{enumerate*}\n",
       "\\item 'pedestrian'\n",
       "\\item 'pedestrian'\n",
       "\\item 'pedestrian'\n",
       "\\item 'pedestrian'\n",
       "\\item 'pedestrian'\n",
       "\\item 'pedestrian'\n",
       "\\end{enumerate*}\n"
      ],
      "text/markdown": [
       "1. 'pedestrian'\n",
       "2. 'pedestrian'\n",
       "3. 'pedestrian'\n",
       "4. 'pedestrian'\n",
       "5. 'pedestrian'\n",
       "6. 'pedestrian'\n",
       "\n",
       "\n"
      ],
      "text/plain": [
       "[1] \"pedestrian\" \"pedestrian\" \"pedestrian\" \"pedestrian\" \"pedestrian\"\n",
       "[6] \"pedestrian\""
      ]
     },
     "metadata": {},
     "output_type": "display_data"
    }
   ],
   "source": [
    "head(sign_train_labels)"
   ]
  },
  {
   "cell_type": "code",
   "execution_count": 185,
   "metadata": {},
   "outputs": [
    {
     "data": {
      "text/html": [
       "<table>\n",
       "<thead><tr><th></th><th scope=col>sign_type</th><th scope=col>r1</th><th scope=col>g1</th><th scope=col>b1</th><th scope=col>r2</th><th scope=col>g2</th><th scope=col>b2</th><th scope=col>r3</th><th scope=col>g3</th><th scope=col>b3</th><th scope=col>...</th><th scope=col>b13</th><th scope=col>r14</th><th scope=col>g14</th><th scope=col>b14</th><th scope=col>r15</th><th scope=col>g15</th><th scope=col>b15</th><th scope=col>r16</th><th scope=col>g16</th><th scope=col>b16</th></tr></thead>\n",
       "<tbody>\n",
       "\t<tr><th scope=row>204</th><td>stop      </td><td>204       </td><td>227       </td><td>220       </td><td>196       </td><td> 59       </td><td> 51       </td><td>202       </td><td> 67       </td><td> 59       </td><td>...       </td><td>196       </td><td>190       </td><td> 50       </td><td> 43       </td><td>190       </td><td>47        </td><td>41        </td><td>165       </td><td>195       </td><td>196       </td></tr>\n",
       "\t<tr><th scope=row>205</th><td>pedestrian</td><td>118       </td><td>105       </td><td> 69       </td><td>244       </td><td>245       </td><td> 67       </td><td>132       </td><td>123       </td><td> 12       </td><td>...       </td><td> 75       </td><td>131       </td><td>124       </td><td>  5       </td><td>106       </td><td>94        </td><td>53        </td><td>101       </td><td> 91       </td><td> 59       </td></tr>\n",
       "\t<tr><th scope=row>206</th><td>speed     </td><td>100       </td><td>114       </td><td>108       </td><td>142       </td><td>162       </td><td>156       </td><td>142       </td><td>162       </td><td>156       </td><td>...       </td><td> 43       </td><td>153       </td><td>172       </td><td>165       </td><td> 69       </td><td>81        </td><td>76        </td><td> 50       </td><td> 53       </td><td> 43       </td></tr>\n",
       "</tbody>\n",
       "</table>\n"
      ],
      "text/latex": [
       "\\begin{tabular}{r|lllllllllllllllllllllllllllllllllllllllllllllllll}\n",
       "  & sign\\_type & r1 & g1 & b1 & r2 & g2 & b2 & r3 & g3 & b3 & ... & b13 & r14 & g14 & b14 & r15 & g15 & b15 & r16 & g16 & b16\\\\\n",
       "\\hline\n",
       "\t204 & stop       & 204        & 227        & 220        & 196        &  59        &  51        & 202        &  67        &  59        & ...        & 196        & 190        &  50        &  43        & 190        & 47         & 41         & 165        & 195        & 196       \\\\\n",
       "\t205 & pedestrian & 118        & 105        &  69        & 244        & 245        &  67        & 132        & 123        &  12        & ...        &  75        & 131        & 124        &   5        & 106        & 94         & 53         & 101        &  91        &  59       \\\\\n",
       "\t206 & speed      & 100        & 114        & 108        & 142        & 162        & 156        & 142        & 162        & 156        & ...        &  43        & 153        & 172        & 165        &  69        & 81         & 76         &  50        &  53        &  43       \\\\\n",
       "\\end{tabular}\n"
      ],
      "text/markdown": [
       "\n",
       "| <!--/--> | sign_type | r1 | g1 | b1 | r2 | g2 | b2 | r3 | g3 | b3 | ... | b13 | r14 | g14 | b14 | r15 | g15 | b15 | r16 | g16 | b16 |\n",
       "|---|---|---|---|---|---|---|---|---|---|---|---|---|---|---|---|---|---|---|---|---|---|\n",
       "| 204 | stop       | 204        | 227        | 220        | 196        |  59        |  51        | 202        |  67        |  59        | ...        | 196        | 190        |  50        |  43        | 190        | 47         | 41         | 165        | 195        | 196        |\n",
       "| 205 | pedestrian | 118        | 105        |  69        | 244        | 245        |  67        | 132        | 123        |  12        | ...        |  75        | 131        | 124        |   5        | 106        | 94         | 53         | 101        |  91        |  59        |\n",
       "| 206 | speed      | 100        | 114        | 108        | 142        | 162        | 156        | 142        | 162        | 156        | ...        |  43        | 153        | 172        | 165        |  69        | 81         | 76         |  50        |  53        |  43        |\n",
       "\n"
      ],
      "text/plain": [
       "    sign_type  r1  g1  b1  r2  g2  b2  r3  g3  b3  ... b13 r14 g14 b14 r15 g15\n",
       "204 stop       204 227 220 196  59  51 202  67  59 ... 196 190  50  43 190 47 \n",
       "205 pedestrian 118 105  69 244 245  67 132 123  12 ...  75 131 124   5 106 94 \n",
       "206 speed      100 114 108 142 162 156 142 162 156 ...  43 153 172 165  69 81 \n",
       "    b15 r16 g16 b16\n",
       "204 41  165 195 196\n",
       "205 53  101  91  59\n",
       "206 76   50  53  43"
      ]
     },
     "metadata": {},
     "output_type": "display_data"
    }
   ],
   "source": [
    "test"
   ]
  },
  {
   "cell_type": "code",
   "execution_count": 186,
   "metadata": {},
   "outputs": [
    {
     "data": {
      "text/html": [
       "<table>\n",
       "<thead><tr><th></th><th scope=col>r1</th><th scope=col>g1</th><th scope=col>b1</th><th scope=col>r2</th><th scope=col>g2</th><th scope=col>b2</th><th scope=col>r3</th><th scope=col>g3</th><th scope=col>b3</th><th scope=col>r4</th><th scope=col>...</th><th scope=col>b13</th><th scope=col>r14</th><th scope=col>g14</th><th scope=col>b14</th><th scope=col>r15</th><th scope=col>g15</th><th scope=col>b15</th><th scope=col>r16</th><th scope=col>g16</th><th scope=col>b16</th></tr></thead>\n",
       "<tbody>\n",
       "\t<tr><th scope=row>204</th><td>204</td><td>227</td><td>220</td><td>196</td><td> 59</td><td> 51</td><td>202</td><td> 67</td><td> 59</td><td>204</td><td>...</td><td>196</td><td>190</td><td> 50</td><td> 43</td><td>190</td><td>47 </td><td>41 </td><td>165</td><td>195</td><td>196</td></tr>\n",
       "\t<tr><th scope=row>205</th><td>118</td><td>105</td><td> 69</td><td>244</td><td>245</td><td> 67</td><td>132</td><td>123</td><td> 12</td><td>138</td><td>...</td><td> 75</td><td>131</td><td>124</td><td>  5</td><td>106</td><td>94 </td><td>53 </td><td>101</td><td> 91</td><td> 59</td></tr>\n",
       "\t<tr><th scope=row>206</th><td>100</td><td>114</td><td>108</td><td>142</td><td>162</td><td>156</td><td>142</td><td>162</td><td>156</td><td> 50</td><td>...</td><td> 43</td><td>153</td><td>172</td><td>165</td><td> 69</td><td>81 </td><td>76 </td><td> 50</td><td> 53</td><td> 43</td></tr>\n",
       "</tbody>\n",
       "</table>\n"
      ],
      "text/latex": [
       "\\begin{tabular}{r|llllllllllllllllllllllllllllllllllllllllllllllll}\n",
       "  & r1 & g1 & b1 & r2 & g2 & b2 & r3 & g3 & b3 & r4 & ... & b13 & r14 & g14 & b14 & r15 & g15 & b15 & r16 & g16 & b16\\\\\n",
       "\\hline\n",
       "\t204 & 204 & 227 & 220 & 196 &  59 &  51 & 202 &  67 &  59 & 204 & ... & 196 & 190 &  50 &  43 & 190 & 47  & 41  & 165 & 195 & 196\\\\\n",
       "\t205 & 118 & 105 &  69 & 244 & 245 &  67 & 132 & 123 &  12 & 138 & ... &  75 & 131 & 124 &   5 & 106 & 94  & 53  & 101 &  91 &  59\\\\\n",
       "\t206 & 100 & 114 & 108 & 142 & 162 & 156 & 142 & 162 & 156 &  50 & ... &  43 & 153 & 172 & 165 &  69 & 81  & 76  &  50 &  53 &  43\\\\\n",
       "\\end{tabular}\n"
      ],
      "text/markdown": [
       "\n",
       "| <!--/--> | r1 | g1 | b1 | r2 | g2 | b2 | r3 | g3 | b3 | r4 | ... | b13 | r14 | g14 | b14 | r15 | g15 | b15 | r16 | g16 | b16 |\n",
       "|---|---|---|---|---|---|---|---|---|---|---|---|---|---|---|---|---|---|---|---|---|---|\n",
       "| 204 | 204 | 227 | 220 | 196 |  59 |  51 | 202 |  67 |  59 | 204 | ... | 196 | 190 |  50 |  43 | 190 | 47  | 41  | 165 | 195 | 196 |\n",
       "| 205 | 118 | 105 |  69 | 244 | 245 |  67 | 132 | 123 |  12 | 138 | ... |  75 | 131 | 124 |   5 | 106 | 94  | 53  | 101 |  91 |  59 |\n",
       "| 206 | 100 | 114 | 108 | 142 | 162 | 156 | 142 | 162 | 156 |  50 | ... |  43 | 153 | 172 | 165 |  69 | 81  | 76  |  50 |  53 |  43 |\n",
       "\n"
      ],
      "text/plain": [
       "    r1  g1  b1  r2  g2  b2  r3  g3  b3  r4  ... b13 r14 g14 b14 r15 g15 b15 r16\n",
       "204 204 227 220 196  59  51 202  67  59 204 ... 196 190  50  43 190 47  41  165\n",
       "205 118 105  69 244 245  67 132 123  12 138 ...  75 131 124   5 106 94  53  101\n",
       "206 100 114 108 142 162 156 142 162 156  50 ...  43 153 172 165  69 81  76   50\n",
       "    g16 b16\n",
       "204 195 196\n",
       "205  91  59\n",
       "206  53  43"
      ]
     },
     "metadata": {},
     "output_type": "display_data"
    }
   ],
   "source": [
    "test[-1]"
   ]
  },
  {
   "cell_type": "code",
   "execution_count": 187,
   "metadata": {},
   "outputs": [],
   "source": [
    "signs_pred=knn(train = train[-1], test = test[-1], cl = sign_train_labels)"
   ]
  },
  {
   "cell_type": "code",
   "execution_count": 188,
   "metadata": {},
   "outputs": [
    {
     "data": {
      "text/html": [
       "<ol class=list-inline>\n",
       "\t<li>stop</li>\n",
       "\t<li>pedestrian</li>\n",
       "\t<li>speed</li>\n",
       "</ol>\n",
       "\n",
       "<details>\n",
       "\t<summary style=display:list-item;cursor:pointer>\n",
       "\t\t<strong>Levels</strong>:\n",
       "\t</summary>\n",
       "\t<ol class=list-inline>\n",
       "\t\t<li>'pedestrian'</li>\n",
       "\t\t<li>'speed'</li>\n",
       "\t\t<li>'stop'</li>\n",
       "\t</ol>\n",
       "</details>"
      ],
      "text/latex": [
       "\\begin{enumerate*}\n",
       "\\item stop\n",
       "\\item pedestrian\n",
       "\\item speed\n",
       "\\end{enumerate*}\n",
       "\n",
       "\\emph{Levels}: \\begin{enumerate*}\n",
       "\\item 'pedestrian'\n",
       "\\item 'speed'\n",
       "\\item 'stop'\n",
       "\\end{enumerate*}\n"
      ],
      "text/markdown": [
       "1. stop\n",
       "2. pedestrian\n",
       "3. speed\n",
       "\n",
       "\n",
       "\n",
       "**Levels**: 1. 'pedestrian'\n",
       "2. 'speed'\n",
       "3. 'stop'\n",
       "\n",
       "\n"
      ],
      "text/plain": [
       "[1] stop       pedestrian speed     \n",
       "Levels: pedestrian speed stop"
      ]
     },
     "metadata": {},
     "output_type": "display_data"
    }
   ],
   "source": [
    "signs_pred"
   ]
  },
  {
   "cell_type": "code",
   "execution_count": 189,
   "metadata": {},
   "outputs": [
    {
     "data": {
      "text/html": [
       "1"
      ],
      "text/latex": [
       "1"
      ],
      "text/markdown": [
       "1"
      ],
      "text/plain": [
       "[1] 1"
      ]
     },
     "metadata": {},
     "output_type": "display_data"
    }
   ],
   "source": [
    "mean(sign_test_labels==signs_pred)"
   ]
  },
  {
   "cell_type": "code",
   "execution_count": 190,
   "metadata": {},
   "outputs": [
    {
     "data": {
      "text/plain": [
       "signs_pred\n",
       "pedestrian      speed       stop \n",
       "         1          1          1 "
      ]
     },
     "metadata": {},
     "output_type": "display_data"
    }
   ],
   "source": [
    "table(signs_pred)"
   ]
  },
  {
   "cell_type": "code",
   "execution_count": 191,
   "metadata": {},
   "outputs": [
    {
     "data": {
      "text/plain": [
       "sign_train_labels\n",
       "pedestrian      speed       stop \n",
       "        64         69         70 "
      ]
     },
     "metadata": {},
     "output_type": "display_data"
    }
   ],
   "source": [
    "table(sign_train_labels)"
   ]
  },
  {
   "cell_type": "code",
   "execution_count": null,
   "metadata": {},
   "outputs": [],
   "source": []
  },
  {
   "cell_type": "code",
   "execution_count": null,
   "metadata": {},
   "outputs": [],
   "source": []
  }
 ],
 "metadata": {
  "kernelspec": {
   "display_name": "R",
   "language": "R",
   "name": "ir"
  },
  "language_info": {
   "codemirror_mode": "r",
   "file_extension": ".r",
   "mimetype": "text/x-r-source",
   "name": "R",
   "pygments_lexer": "r",
   "version": "3.6.1"
  }
 },
 "nbformat": 4,
 "nbformat_minor": 4
}
